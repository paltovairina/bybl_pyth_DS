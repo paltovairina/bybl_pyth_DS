{
 "cells": [
  {
   "cell_type": "code",
   "execution_count": 1,
   "id": "9286ad66",
   "metadata": {},
   "outputs": [],
   "source": [
    "import numpy as np\n",
    "import pandas as pd\n",
    "from matplotlib import pyplot as plt\n",
    "\n",
    "%matplotlib inline\n",
    "%config InlineBackend.figure_format = 'svg'"
   ]
  },
  {
   "cell_type": "code",
   "execution_count": 3,
   "id": "84fe2bf6",
   "metadata": {},
   "outputs": [
    {
     "data": {
      "text/plain": [
       "array([12, 13, 14, 15, 16, 17, 18, 19, 20, 21, 22, 23])"
      ]
     },
     "execution_count": 3,
     "metadata": {},
     "output_type": "execute_result"
    }
   ],
   "source": [
    "#1\n",
    "a = np.arange(12,24)\n",
    "a"
   ]
  },
  {
   "cell_type": "code",
   "execution_count": 7,
   "id": "fa777eac",
   "metadata": {},
   "outputs": [],
   "source": [
    "#2\n",
    "a_1 = a.reshape(3,4)\n",
    "\n",
    "a_2 = a.reshape(2,6)\n",
    "\n",
    "a_3 = a.reshape(4,3)\n",
    "\n",
    "a_4 = a.reshape(6,2)\n",
    "\n",
    "a_5 = a.reshape(12,1)"
   ]
  },
  {
   "cell_type": "code",
   "execution_count": 10,
   "id": "dcdacf07",
   "metadata": {},
   "outputs": [],
   "source": [
    "#3\n",
    "a__1 = a.reshape(-1,4)\n",
    "\n",
    "a__2 = a.reshape(-1,6)\n",
    "\n",
    "a__3 = a.reshape(-1,3)\n",
    "\n",
    "a__4 = a.reshape(6,-1)\n",
    "\n",
    "a__5 = a.reshape(12,-1)"
   ]
  },
  {
   "cell_type": "code",
   "execution_count": 11,
   "id": "2696d1ef",
   "metadata": {},
   "outputs": [
    {
     "name": "stdout",
     "output_type": "stream",
     "text": [
      "Размерность массива 1х12:1\n",
      "Размерность массива 12х1:2\n"
     ]
    }
   ],
   "source": [
    "#4\n",
    "print(\"Размерность массива 1х12:{}\".format(a.ndim))\n",
    "print(\"Размерность массива 12х1:{}\".format(a_5.ndim))\n",
    "#Ответ:нельзя"
   ]
  },
  {
   "cell_type": "code",
   "execution_count": 14,
   "id": "e079078a",
   "metadata": {},
   "outputs": [],
   "source": [
    "#5\n",
    "b = np.random.randn(3,4)\n",
    "br = b.flatten()"
   ]
  },
  {
   "cell_type": "code",
   "execution_count": 16,
   "id": "b4c85b37",
   "metadata": {},
   "outputs": [
    {
     "data": {
      "text/plain": [
       "array([20, 18, 16, 14, 12, 10,  8,  6,  4,  2])"
      ]
     },
     "execution_count": 16,
     "metadata": {},
     "output_type": "execute_result"
    }
   ],
   "source": [
    "#6\n",
    "a = np.arange(20,0,-2)\n",
    "a"
   ]
  },
  {
   "cell_type": "code",
   "execution_count": 17,
   "id": "dbb5baa1",
   "metadata": {},
   "outputs": [
    {
     "data": {
      "text/plain": [
       "array([20, 18, 16, 14, 12, 10,  8,  6,  4,  2])"
      ]
     },
     "execution_count": 17,
     "metadata": {},
     "output_type": "execute_result"
    }
   ],
   "source": [
    "#7\n",
    "b = np.arange(20,1,-2)\n",
    "b"
   ]
  },
  {
   "cell_type": "code",
   "execution_count": 20,
   "id": "619f792b",
   "metadata": {},
   "outputs": [
    {
     "name": "stdout",
     "output_type": "stream",
     "text": [
      "[[0. 0.]\n",
      " [0. 0.]\n",
      " [1. 1.]\n",
      " [1. 1.]\n",
      " [1. 1.]]\n"
     ]
    },
    {
     "data": {
      "text/plain": [
       "10"
      ]
     },
     "execution_count": 20,
     "metadata": {},
     "output_type": "execute_result"
    }
   ],
   "source": [
    "#8\n",
    "a = np.zeros((2,2))\n",
    "b = np.ones((3,2))\n",
    "v = np.concatenate((a,b),axis=0)\n",
    "print(v)\n",
    "v.size"
   ]
  },
  {
   "cell_type": "code",
   "execution_count": 31,
   "id": "a0337145",
   "metadata": {},
   "outputs": [
    {
     "name": "stdout",
     "output_type": "stream",
     "text": [
      "[[  5  14  23  32]\n",
      " [ 14  50  86 122]\n",
      " [ 23  86 149 212]\n",
      " [ 32 122 212 302]]\n",
      "(4, 4)\n",
      "Определитель матрицы равен 0,обратную матрицу нельзя вычислить\n"
     ]
    }
   ],
   "source": [
    "#9\n",
    "a = np.arange(12)\n",
    "A = a.reshape(4,3)\n",
    "At = A.T\n",
    "B = np.dot(A,At)\n",
    "print(B)\n",
    "print(B.shape)\n",
    "b = np.linalg.det(B)\n",
    "if b == 0:\n",
    "    print(\"Определитель матрицы равен 0,обратную матрицу нельзя вычислить\")\n",
    "else:\n",
    "    bb = np.linalg.inv(B)\n",
    "    print(bb)"
   ]
  },
  {
   "cell_type": "code",
   "execution_count": 33,
   "id": "1005234e",
   "metadata": {},
   "outputs": [],
   "source": [
    "#10\n",
    "np.random.seed(42)"
   ]
  },
  {
   "cell_type": "code",
   "execution_count": 35,
   "id": "7c49d457",
   "metadata": {},
   "outputs": [
    {
     "data": {
      "text/plain": [
       "array([ 0.,  1.,  2.,  3.,  4.,  5.,  6.,  7.,  8.,  9., 10., 11., 12.,\n",
       "       13., 14., 15.])"
      ]
     },
     "execution_count": 35,
     "metadata": {},
     "output_type": "execute_result"
    }
   ],
   "source": [
    "#11\n",
    "c = np.linspace(0,16,16,endpoint=False)\n",
    "c"
   ]
  },
  {
   "cell_type": "code",
   "execution_count": 52,
   "id": "cb447432",
   "metadata": {},
   "outputs": [
    {
     "name": "stdout",
     "output_type": "stream",
     "text": [
      "[[  5.  24.  43.  62.]\n",
      " [ 54. 100. 146. 192.]\n",
      " [103. 176. 249. 322.]\n",
      " [152. 252. 352. 452.]]\n",
      "-7.685903354004529e-25\n",
      "2\n",
      "[[ 1.10382344e+13  5.26315789e-02 -3.31147031e+13  2.20764688e+13]\n",
      " [-8.46264636e+13  9.38249922e+13  6.62294063e+13 -7.54279349e+13]\n",
      " [ 1.36138224e+14 -1.87649984e+14 -3.31147031e+13  8.46264636e+13]\n",
      " [-6.25499948e+13  9.38249922e+13  0.00000000e+00 -3.12749974e+13]]\n"
     ]
    }
   ],
   "source": [
    "#12\n",
    "C = c.reshape(4,4)\n",
    "D = B + C*10\n",
    "print(D)\n",
    "d = np.linalg.det(D)\n",
    "print(d)\n",
    "r = np.linalg.matrix_rank(D)\n",
    "print(r)\n",
    "D_inv = np.linalg.inv(D)\n",
    "print(D_inv)"
   ]
  },
  {
   "cell_type": "code",
   "execution_count": 53,
   "id": "c656a1cb",
   "metadata": {},
   "outputs": [
    {
     "name": "stdout",
     "output_type": "stream",
     "text": [
      "[[1 1 0 1]\n",
      " [0 1 1 0]\n",
      " [1 0 0 1]\n",
      " [0 1 1 0]]\n",
      "[[  5.  14.   2.  32.]\n",
      " [  4.  50.  86.   7.]\n",
      " [ 23.   9.  10. 212.]\n",
      " [ 12. 122. 212.  15.]]\n"
     ]
    }
   ],
   "source": [
    "#13\n",
    "D_inv = np.where(D_inv < 0, 0, 1)\n",
    "print(D_inv)\n",
    "E = np.where(D_inv > 0, B, C)\n",
    "print(E)            "
   ]
  },
  {
   "cell_type": "code",
   "execution_count": null,
   "id": "199cba4b",
   "metadata": {},
   "outputs": [],
   "source": []
  }
 ],
 "metadata": {
  "kernelspec": {
   "display_name": "Python 3 (ipykernel)",
   "language": "python",
   "name": "python3"
  },
  "language_info": {
   "codemirror_mode": {
    "name": "ipython",
    "version": 3
   },
   "file_extension": ".py",
   "mimetype": "text/x-python",
   "name": "python",
   "nbconvert_exporter": "python",
   "pygments_lexer": "ipython3",
   "version": "3.9.7"
  }
 },
 "nbformat": 4,
 "nbformat_minor": 5
}
